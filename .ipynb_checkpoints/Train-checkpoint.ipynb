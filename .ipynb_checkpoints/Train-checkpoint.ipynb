{
 "cells": [
  {
   "cell_type": "code",
   "execution_count": 82,
   "id": "limited-tooth",
   "metadata": {},
   "outputs": [],
   "source": [
    "import torchaudio\n",
    "from transformers import Wav2Vec2FeatureExtractor, Wav2Vec2Processor, Wav2Vec2ForCTC, Wav2Vec2CTCTokenizer\n",
    "from transformers import Trainer, TrainingArguments\n",
    "import torch\n",
    "import torch.nn as nn\n",
    "from torch.utils.data import Dataset\n",
    "from datasets import load_metric\n",
    "\n",
    "from sklearn.model_selection import train_test_split\n",
    "import pandas as pd\n",
    "import numpy as np\n",
    "import librosa\n",
    "from tqdm.notebook import tqdm\n",
    "import glob\n",
    "import os\n",
    "import re\n",
    "import json"
   ]
  },
  {
   "cell_type": "markdown",
   "id": "metallic-vegetable",
   "metadata": {},
   "source": [
    "# Preprocessing"
   ]
  },
  {
   "cell_type": "code",
   "execution_count": 34,
   "id": "underlying-mention",
   "metadata": {},
   "outputs": [],
   "source": [
    "all_folders = glob.glob('data/*')"
   ]
  },
  {
   "cell_type": "code",
   "execution_count": 48,
   "id": "voluntary-gothic",
   "metadata": {},
   "outputs": [],
   "source": [
    "data = []\n",
    "for folder in all_folders:\n",
    "    wav_files = glob.glob(folder + '/wavs/*.wav')\n",
    "    label_files = glob.glob(folder + '/labels/*.txt')\n",
    "    \n",
    "    for wav, label in zip(wav_files, label_files):\n",
    "        text = open(label, 'r').read()\n",
    "        if text != '':\n",
    "            data.append({\n",
    "                'wav_file': wav,\n",
    "                'sentence': text\n",
    "            })"
   ]
  },
  {
   "cell_type": "code",
   "execution_count": 56,
   "id": "reliable-controversy",
   "metadata": {},
   "outputs": [],
   "source": [
    "df = pd.DataFrame(data)\n",
    "chars_to_ignore_regex = '[\\,\\?\\.\\!\\-\\;\\:\\\"\\“\\%\\‘\\”\\�]'\n",
    "df['sentence'] = df['sentence'].apply(lambda x: re.sub(chars_to_ignore_regex, '', x).lower() + \" \")"
   ]
  },
  {
   "cell_type": "code",
   "execution_count": 57,
   "id": "charged-haiti",
   "metadata": {},
   "outputs": [],
   "source": [
    "# Split train and test \n",
    "train_df, eval_df = train_test_split(df, test_size=0.2, random_state=2021)"
   ]
  },
  {
   "cell_type": "code",
   "execution_count": 71,
   "id": "controlling-victory",
   "metadata": {},
   "outputs": [],
   "source": [
    "train_text = ' '.join(train_df['sentence']) \n",
    "eval_text = ' '.join(eval_df['sentence'])\n",
    "\n",
    "vocab_list = list(set(train_text) | set(eval_text))\n",
    "vocab_dict = {v: k for k, v in enumerate(vocab_list)}\n",
    "vocab_dict[\"|\"] = vocab_dict[\" \"]\n",
    "del vocab_dict[\" \"]"
   ]
  },
  {
   "cell_type": "code",
   "execution_count": 73,
   "id": "established-security",
   "metadata": {},
   "outputs": [
    {
     "name": "stdout",
     "output_type": "stream",
     "text": [
      "41\n"
     ]
    }
   ],
   "source": [
    "vocab_dict[\"[UNK]\"] = len(vocab_dict)\n",
    "vocab_dict[\"[PAD]\"] = len(vocab_dict)\n",
    "print(len(vocab_dict))"
   ]
  },
  {
   "cell_type": "code",
   "execution_count": 75,
   "id": "moral-madrid",
   "metadata": {},
   "outputs": [],
   "source": [
    "with open('vocab/vocab.json', 'w') as json_file:\n",
    "    json.dump(vocab_dict, json_file)"
   ]
  },
  {
   "cell_type": "code",
   "execution_count": 79,
   "id": "sitting-herald",
   "metadata": {},
   "outputs": [],
   "source": [
    "# Create tokenizer\n",
    "tokenizer = Wav2Vec2CTCTokenizer('vocab/vocab.json', unk_token=\"[UNK]\", pad_token=\"[PAD]\", word_delimiter_token=\"|\")"
   ]
  },
  {
   "cell_type": "markdown",
   "id": "digital-sharp",
   "metadata": {},
   "source": [
    "# Feature Extraction"
   ]
  },
  {
   "cell_type": "code",
   "execution_count": 80,
   "id": "adjusted-sculpture",
   "metadata": {},
   "outputs": [],
   "source": [
    "feature_extractor = Wav2Vec2FeatureExtractor(\n",
    "    feature_size=1, sampling_rate=16000, padding_value=0.0,\n",
    "    do_normalize=True, return_attention_mask=True\n",
    ")"
   ]
  },
  {
   "cell_type": "code",
   "execution_count": 81,
   "id": "immune-skating",
   "metadata": {},
   "outputs": [],
   "source": [
    "processor = Wav2Vec2Processor(\n",
    "    feature_extractor=feature_extractor, tokenizer=tokenizer,\n",
    ")"
   ]
  },
  {
   "cell_type": "code",
   "execution_count": null,
   "id": "inside-nothing",
   "metadata": {},
   "outputs": [],
   "source": [
    "# Resample from 41kHz to 16khz\n",
    "# For that we need to create a dataset class from torch\n",
    "# As malay is not part of the datasets class\n",
    "class AudoDataSet(Dataset):\n",
    "    def __init__(self, df):\n",
    "        wav_file = df['wav_file']\n",
    "        labels = df['labels']"
   ]
  }
 ],
 "metadata": {
  "kernelspec": {
   "display_name": "Python 3",
   "language": "python",
   "name": "python3"
  },
  "language_info": {
   "codemirror_mode": {
    "name": "ipython",
    "version": 3
   },
   "file_extension": ".py",
   "mimetype": "text/x-python",
   "name": "python",
   "nbconvert_exporter": "python",
   "pygments_lexer": "ipython3",
   "version": "3.8.8"
  }
 },
 "nbformat": 4,
 "nbformat_minor": 5
}
