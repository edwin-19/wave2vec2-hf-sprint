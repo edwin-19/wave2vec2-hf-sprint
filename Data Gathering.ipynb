{
 "cells": [
  {
   "cell_type": "code",
   "execution_count": 1,
   "id": "unique-ranking",
   "metadata": {},
   "outputs": [],
   "source": [
    "from youtubesearchpython import VideosSearch, CustomSearch\n",
    "import youtubesearchpython\n",
    "import librosa\n",
    "import numpy as np\n",
    "import pandas as pd\n",
    "import pytube\n",
    "import os\n",
    "from pydub import AudioSegment\n",
    "import speech_recognition\n",
    "import pandas as pd"
   ]
  },
  {
   "cell_type": "code",
   "execution_count": 2,
   "id": "sitting-accreditation",
   "metadata": {},
   "outputs": [],
   "source": [
    "recognizer = speech_recognition.Recognizer()\n",
    "recognizer.energy_threshold = 300"
   ]
  },
  {
   "cell_type": "code",
   "execution_count": 3,
   "id": "annoying-practitioner",
   "metadata": {},
   "outputs": [],
   "source": [
    "def search_youtube(query, duration='long', limit=3):\n",
    "    video_links = []\n",
    "    if duration == 'long':\n",
    "        duration = 'EgIYAg%253D%253D'\n",
    "    else:\n",
    "        duration = 'EgIYAQ%3D%3D'\n",
    "        \n",
    "    results = CustomSearch(query, duration, limit)\n",
    "    for result in results.result()['result']:\n",
    "        video_links.append(result['link'])\n",
    "        \n",
    "    return video_links"
   ]
  },
  {
   "cell_type": "code",
   "execution_count": 4,
   "id": "three-dictionary",
   "metadata": {},
   "outputs": [],
   "source": [
    "def download_yt_vids(link, save_path, file_name=''):\n",
    "    if not os.path.exists(save_path):\n",
    "        os.makedirs(save_path)\n",
    "    \n",
    "    youtube = pytube.YouTube(link)\n",
    "    \n",
    "    if file_name != '':\n",
    "        youtube.title = file_name\n",
    "    else:\n",
    "        youtube.title = youtube.title.replace(' ', '_').lower()\n",
    "    \n",
    "    video = youtube.streams.filter(only_audio=True).first()\n",
    "    path = video.download(save_path)\n",
    "\n",
    "    return path"
   ]
  },
  {
   "cell_type": "code",
   "execution_count": 5,
   "id": "acquired-murder",
   "metadata": {},
   "outputs": [],
   "source": [
    "def recognize_speech(audio_path):\n",
    "    audio_file = speech_recognition.AudioFile(audio_path)\n",
    "    try:\n",
    "        with audio_file as source:\n",
    "            audio_data = recognizer.record(source)\n",
    "            text = recognizer.recognize_google(audio_data=audio_data, language='ms')\n",
    "    except:\n",
    "        text = ''\n",
    "        \n",
    "    return text"
   ]
  },
  {
   "cell_type": "code",
   "execution_count": 6,
   "id": "prepared-hayes",
   "metadata": {},
   "outputs": [],
   "source": [
    "def load_and_seg_audio(audio_path, seg_path, duration=10):\n",
    "    audio = AudioSegment.from_file(audio_path).set_channels(1)\n",
    "    audio_length = len(audio)\n",
    "    \n",
    "    ms_dur = duration * 1000\n",
    "    dur_list = list(range(0, len(audio), ms_dur))\n",
    "    \n",
    "    audio_filename = os.path.splitext(os.path.basename(audio_path))[0]\n",
    "    wav_path = seg_path\n",
    "    if not os.path.exists(wav_path):\n",
    "        os.makedirs(wav_path)\n",
    "    \n",
    "    splitted_audio_paths = []\n",
    "    for index, dur in enumerate(dur_list):\n",
    "        if index == len(dur_list) - 1:\n",
    "            break\n",
    "            \n",
    "        split_audio_path = wav_path + '/' + audio_filename + '_' + str(index) + '.wav'\n",
    "        spliited_audio = audio[dur: dur_list[index + 1]]\n",
    "        spliited_audio.export(split_audio_path, format='wav')\n",
    "        splitted_audio_paths.append(split_audio_path)\n",
    "        \n",
    "    \n",
    "    return splitted_audio_paths"
   ]
  },
  {
   "cell_type": "code",
   "execution_count": 9,
   "id": "streaming-haiti",
   "metadata": {},
   "outputs": [],
   "source": [
    "video_links = search_youtube('membaca berita', limit=10)\n",
    "vid_save_path = 'data/vids/'"
   ]
  },
  {
   "cell_type": "code",
   "execution_count": 11,
   "id": "intelligent-bishop",
   "metadata": {},
   "outputs": [],
   "source": [
    "for vid_link in video_links:\n",
    "    path = download_yt_vids(vid_link, vid_save_path)\n",
    "    title = os.path.basename(path).split('.')[0]\n",
    "\n",
    "    labels_path = 'data/' + title + '/labels/'\n",
    "    audio_path = 'data/' + title + '/wavs/'\n",
    "    spliited_audio_paths = load_and_seg_audio(path, audio_path)\n",
    "\n",
    "    audio_filename = os.path.splitext(os.path.basename(spliited_audio_paths[0]))[0]\n",
    "    txt_write_path = labels_path\n",
    "    if not os.path.exists(txt_write_path):\n",
    "        os.makedirs(txt_write_path)\n",
    "\n",
    "    for index, aud_path in enumerate(spliited_audio_paths):\n",
    "        text = recognize_speech(aud_path)\n",
    "\n",
    "        if text != '':\n",
    "            with open(txt_write_path + '/' + audio_filename + '_' +  str(index) + '.txt', 'w') as txt_file:\n",
    "                txt_file.write(text)\n",
    "        else:\n",
    "            os.remove(aud_path)"
   ]
  }
 ],
 "metadata": {
  "kernelspec": {
   "display_name": "Python 3",
   "language": "python",
   "name": "python3"
  },
  "language_info": {
   "codemirror_mode": {
    "name": "ipython",
    "version": 3
   },
   "file_extension": ".py",
   "mimetype": "text/x-python",
   "name": "python",
   "nbconvert_exporter": "python",
   "pygments_lexer": "ipython3",
   "version": "3.8.8"
  }
 },
 "nbformat": 4,
 "nbformat_minor": 5
}
