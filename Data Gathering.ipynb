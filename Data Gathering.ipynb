{
 "cells": [
  {
   "cell_type": "code",
   "execution_count": 35,
   "id": "unique-ranking",
   "metadata": {},
   "outputs": [],
   "source": [
    "from youtubesearchpython import VideosSearch, CustomSearch\n",
    "import torchaudio\n",
    "import librosa\n",
    "import numpy as np\n",
    "import pandas as pd"
   ]
  },
  {
   "cell_type": "code",
   "execution_count": 36,
   "id": "subsequent-confidentiality",
   "metadata": {},
   "outputs": [],
   "source": [
    "results = CustomSearch('malay', VideoSortOrder.uploadDate, limit = 1)"
   ]
  },
  {
   "cell_type": "code",
   "execution_count": 37,
   "id": "contemporary-keeping",
   "metadata": {},
   "outputs": [
    {
     "data": {
      "text/plain": [
       "{'result': [{'type': 'video',\n",
       "   'id': 'fQ4R8Ik6J4c',\n",
       "   'title': 'Doraemon Malay - Tv Pengganti Diri',\n",
       "   'publishedTime': '11 minutes ago',\n",
       "   'duration': '10:30',\n",
       "   'viewCount': {'text': '1 view', 'short': '1 view'},\n",
       "   'thumbnails': [{'url': 'https://i.ytimg.com/vi/fQ4R8Ik6J4c/hq720.jpg?sqp=-oaymwEjCOgCEMoBSFryq4qpAxUIARUAAAAAGAElAADIQj0AgKJDeAE=&rs=AOn4CLCGB0mZ0SjfU7bOaNHNkVnWl2KQIw',\n",
       "     'width': 360,\n",
       "     'height': 202},\n",
       "    {'url': 'https://i.ytimg.com/vi/fQ4R8Ik6J4c/hq720.jpg?sqp=-oaymwEXCNAFEJQDSFryq4qpAwkIARUAAIhCGAE=&rs=AOn4CLBAgkYEC3M_XmgXcHh9xazHPAuywg',\n",
       "     'width': 720,\n",
       "     'height': 404}],\n",
       "   'descriptionSnippet': None,\n",
       "   'channel': {'name': 'yunz cartoon channel',\n",
       "    'id': 'UCS0BE6XH2ovpmV5f3t8erWA',\n",
       "    'thumbnails': [{'url': 'https://yt3.ggpht.com/ytc/AAUvwnjxyqxgJ1g4hYbg6qj0RZjErtmelePW16XmW8aq=s68-c-k-c0x00ffffff-no-rj',\n",
       "      'width': 68,\n",
       "      'height': 68}],\n",
       "    'link': 'https://www.youtube.com/channel/UCS0BE6XH2ovpmV5f3t8erWA'},\n",
       "   'accessibility': {'title': 'Doraemon Malay - Tv Pengganti Diri by yunz cartoon channel 11 minutes ago 10 minutes, 30 seconds 1 view',\n",
       "    'duration': '10 minutes, 30 seconds'},\n",
       "   'link': 'https://www.youtube.com/watch?v=fQ4R8Ik6J4c',\n",
       "   'shelfTitle': None}]}"
      ]
     },
     "execution_count": 37,
     "metadata": {},
     "output_type": "execute_result"
    }
   ],
   "source": [
    "results.result()"
   ]
  },
  {
   "cell_type": "code",
   "execution_count": null,
   "id": "proud-progress",
   "metadata": {},
   "outputs": [],
   "source": []
  }
 ],
 "metadata": {
  "kernelspec": {
   "display_name": "Python 3",
   "language": "python",
   "name": "python3"
  },
  "language_info": {
   "codemirror_mode": {
    "name": "ipython",
    "version": 3
   },
   "file_extension": ".py",
   "mimetype": "text/x-python",
   "name": "python",
   "nbconvert_exporter": "python",
   "pygments_lexer": "ipython3",
   "version": "3.8.8"
  }
 },
 "nbformat": 4,
 "nbformat_minor": 5
}
